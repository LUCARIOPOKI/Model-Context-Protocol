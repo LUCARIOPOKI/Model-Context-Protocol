{
 "cells": [
  {
   "cell_type": "code",
   "execution_count": 5,
   "id": "f3c7ac90",
   "metadata": {},
   "outputs": [
    {
     "data": {
      "text/plain": [
       "True"
      ]
     },
     "execution_count": 5,
     "metadata": {},
     "output_type": "execute_result"
    }
   ],
   "source": [
    "import requests\n",
    "from dotenv import load_dotenv\n",
    "from datetime import datetime\n",
    "import requests\n",
    "import os\n",
    "\n",
    "load_dotenv()"
   ]
  },
  {
   "cell_type": "code",
   "execution_count": 3,
   "id": "bdf46eca",
   "metadata": {},
   "outputs": [
    {
     "name": "stdout",
     "output_type": "stream",
     "text": [
      "\n",
      "Book 1: Title: The Great Gatsby Authors: F. Scott Fitzgerald Publisher: Simon and Schuster\n"
     ]
    }
   ],
   "source": [
    "def get_book(user_query: str) -> str:\n",
    "    url = \"https://www.googleapis.com/books/v1/volumes\"\n",
    "    params = {\n",
    "        \"q\": user_query,\n",
    "        \"maxResults\": 1\n",
    "    }\n",
    " \n",
    "    response = requests.get(url, params=params)\n",
    " \n",
    "    if response.status_code != 200:\n",
    "        print(f\"Error: {response.status_code}\")\n",
    "        return\n",
    " \n",
    "    data = response.json()\n",
    " \n",
    "    if \"items\" not in data:\n",
    "        print(\"No books found.\")\n",
    "        return\n",
    " \n",
    "    for index, item in enumerate(data[\"items\"], start=1):\n",
    "        volume_info = item.get(\"volumeInfo\", {})\n",
    "        title = volume_info.get(\"title\", \"N/A\")\n",
    "        authors = \", \".join(volume_info.get(\"authors\", [\"Unknown author\"]))\n",
    "        publisher = volume_info.get(\"publisher\", \"N/A\")\n",
    "        return (f\"\\nBook {index}: Title: {title} Authors: {authors} Publisher: {publisher}\")\n",
    "\n",
    "print(get_book(\"The Great Gatsby\"))\n",
    " "
   ]
  },
  {
   "cell_type": "code",
   "execution_count": 7,
   "id": "0e820bd5",
   "metadata": {},
   "outputs": [
    {
     "name": "stdout",
     "output_type": "stream",
     "text": [
      "The current weather in Coimbatore is broken clouds with a temperature of 29.62°C.\n"
     ]
    }
   ],
   "source": [
    "weather_api_key = os.getenv(\"weather_api_key\")\n",
    "\n",
    "def weather_info(location: str) -> str:\n",
    "    url = f\"http://api.openweathermap.org/data/2.5/weather?q={location}&appid={weather_api_key}&units=metric\"\n",
    "    response = requests.get(url)\n",
    "    if response.status_code == 200:\n",
    "        data = response.json()\n",
    "        weather = data['weather'][0]['description']\n",
    "        temperature = data['main']['temp']\n",
    "        return f\"The current weather in {location} is {weather} with a temperature of {temperature}°C.\"\n",
    "    else:\n",
    "        return f\"The current weather of {location} is unavailable.\"\n",
    "    \n",
    "print(weather_info(\"Coimbatore\"))"
   ]
  }
 ],
 "metadata": {
  "kernelspec": {
   "display_name": "Python 3",
   "language": "python",
   "name": "python3"
  },
  "language_info": {
   "codemirror_mode": {
    "name": "ipython",
    "version": 3
   },
   "file_extension": ".py",
   "mimetype": "text/x-python",
   "name": "python",
   "nbconvert_exporter": "python",
   "pygments_lexer": "ipython3",
   "version": "3.12.4"
  }
 },
 "nbformat": 4,
 "nbformat_minor": 5
}
