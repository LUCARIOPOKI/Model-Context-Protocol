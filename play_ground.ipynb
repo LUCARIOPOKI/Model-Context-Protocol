{
 "cells": [
  {
   "cell_type": "code",
   "execution_count": 31,
   "id": "f3c7ac90",
   "metadata": {},
   "outputs": [
    {
     "ename": "ModuleNotFoundError",
     "evalue": "No module named 'brave'",
     "output_type": "error",
     "traceback": [
      "\u001b[31m---------------------------------------------------------------------------\u001b[39m",
      "\u001b[31mModuleNotFoundError\u001b[39m                       Traceback (most recent call last)",
      "\u001b[36mCell\u001b[39m\u001b[36m \u001b[39m\u001b[32mIn[31]\u001b[39m\u001b[32m, line 6\u001b[39m\n\u001b[32m      4\u001b[39m \u001b[38;5;28;01mimport\u001b[39;00m\u001b[38;5;250m \u001b[39m\u001b[34;01mrequests\u001b[39;00m\n\u001b[32m      5\u001b[39m \u001b[38;5;28;01mimport\u001b[39;00m\u001b[38;5;250m \u001b[39m\u001b[34;01mos\u001b[39;00m\n\u001b[32m----> \u001b[39m\u001b[32m6\u001b[39m \u001b[38;5;28;01mfrom\u001b[39;00m\u001b[38;5;250m \u001b[39m\u001b[34;01mbrave\u001b[39;00m\u001b[38;5;250m \u001b[39m\u001b[38;5;28;01mimport\u001b[39;00m Brave \n\u001b[32m      8\u001b[39m load_dotenv()\n\u001b[32m     10\u001b[39m BRAVE_API_KEY = \u001b[33m\"\u001b[39m\u001b[33mMHUxLjAkGh8pVbWQARjVpNnZuVU1WU3l3b1JiM2RkMjZp\u001b[39m\u001b[33m\"\u001b[39m\n",
      "\u001b[31mModuleNotFoundError\u001b[39m: No module named 'brave'"
     ]
    }
   ],
   "source": [
    "import requests\n",
    "from dotenv import load_dotenv\n",
    "from datetime import datetime\n",
    "import requests\n",
    "import os\n",
    "from brave import Brave \n",
    "\n",
    "load_dotenv()\n",
    "\n",
    "BRAVE_API_KEY = \"MHUxLjAkGh8pVbWQARjVpNnZuVU1WU3l3b1JiM2RkMjZp\""
   ]
  },
  {
   "cell_type": "code",
   "execution_count": 3,
   "id": "bdf46eca",
   "metadata": {},
   "outputs": [
    {
     "name": "stdout",
     "output_type": "stream",
     "text": [
      "\n",
      "Book 1: Title: The Great Gatsby Authors: F. Scott Fitzgerald Publisher: Simon and Schuster\n"
     ]
    }
   ],
   "source": [
    "def get_book(user_query: str) -> str:\n",
    "    url = \"https://www.googleapis.com/books/v1/volumes\"\n",
    "    params = {\n",
    "        \"q\": user_query,\n",
    "        \"maxResults\": 1\n",
    "    }\n",
    " \n",
    "    response = requests.get(url, params=params)\n",
    " \n",
    "    if response.status_code != 200:\n",
    "        print(f\"Error: {response.status_code}\")\n",
    "        return\n",
    " \n",
    "    data = response.json()\n",
    " \n",
    "    if \"items\" not in data:\n",
    "        print(\"No books found.\")\n",
    "        return\n",
    " \n",
    "    for index, item in enumerate(data[\"items\"], start=1):\n",
    "        volume_info = item.get(\"volumeInfo\", {})\n",
    "        title = volume_info.get(\"title\", \"N/A\")\n",
    "        authors = \", \".join(volume_info.get(\"authors\", [\"Unknown author\"]))\n",
    "        publisher = volume_info.get(\"publisher\", \"N/A\")\n",
    "        return (f\"\\nBook {index}: Title: {title} Authors: {authors} Publisher: {publisher}\")\n",
    "\n",
    "print(get_book(\"The Great Gatsby\"))\n",
    " "
   ]
  },
  {
   "cell_type": "code",
   "execution_count": 7,
   "id": "0e820bd5",
   "metadata": {},
   "outputs": [
    {
     "name": "stdout",
     "output_type": "stream",
     "text": [
      "The current weather in Coimbatore is broken clouds with a temperature of 29.62°C.\n"
     ]
    }
   ],
   "source": [
    "weather_api_key = os.getenv(\"weather_api_key\")\n",
    "\n",
    "def weather_info(location: str) -> str:\n",
    "    url = f\"http://api.openweathermap.org/data/2.5/weather?q={location}&appid={weather_api_key}&units=metric\"\n",
    "    response = requests.get(url)\n",
    "    if response.status_code == 200:\n",
    "        data = response.json()\n",
    "        weather = data['weather'][0]['description']\n",
    "        temperature = data['main']['temp']\n",
    "        return f\"The current weather in {location} is {weather} with a temperature of {temperature}°C.\"\n",
    "    else:\n",
    "        return f\"The current weather of {location} is unavailable.\"\n",
    "    \n",
    "print(weather_info(\"Coimbatore\"))"
   ]
  },
  {
   "cell_type": "code",
   "execution_count": 27,
   "id": "079edeb8",
   "metadata": {},
   "outputs": [
    {
     "name": "stdout",
     "output_type": "stream",
     "text": [
      "**Instant Answer:** Python is a high-level, general-purpose programming language. Its design philosophy emphasizes code readability with the use of significant indentation. Python is dynamically type-checked and garbage-collected. It supports multiple programming paradigms, including structured, object-oriented and functional programming. Guido van Rossum began working on Python in the late 1980s as a successor to the ABC programming language. Python 3.0, released in 2008, was a major revision not completely backward-compatible with earlier versions. Recent versions, such as Python 3.12, have added capabilites and keywords for typing; helping with static typing. Currently only versions in the 3.x series are supported. Python consistently ranks as one of the most popular programming languages, and it has gained widespread use in the machine learning community. It is widely taught as an introductory programming language.\n",
      "\n",
      "**citation:** https://en.wikipedia.org/wiki/Python_(programming_language)\n",
      "\n"
     ]
    }
   ],
   "source": [
    "def ddg_search(query: str, max_results: int = 5) -> str:\n",
    "    \"\"\"\n",
    "    Performs a web search using DuckDuckGo's Instant Answer API.\n",
    "    Returns a formatted string of instant answer or top related topics.\n",
    "    \"\"\"\n",
    "    params = {\"q\": query, \"format\": \"json\", \"no_html\": 1, \"skip_disambig\": 1}\n",
    "    resp = requests.get(\"https://api.duckduckgo.com/\", params=params)\n",
    "    resp.raise_for_status()\n",
    "    data = resp.json()\n",
    "\n",
    "    abstract = data.get(\"AbstractText\") \n",
    "    citation = data.get(\"AbstractURL\") \n",
    "    results = []\n",
    "    \n",
    "    if 'Text' in data and 'FirstURL' in data:\n",
    "        results.append(f\"- {data['Text']}: {data['FirstURL']}\")\n",
    "\n",
    "    output = \"\"\n",
    "    if abstract:\n",
    "        output += f\"**Instant Answer:** {abstract}\\n\\n\"\n",
    "    if abstract:\n",
    "        output += f\"**citation:** {citation}\\n\"  \n",
    "    return output or \"No results found.\"\n",
    "\n",
    "print(ddg_search(\"what is python programming\"))"
   ]
  }
 ],
 "metadata": {
  "kernelspec": {
   "display_name": "Python 3",
   "language": "python",
   "name": "python3"
  },
  "language_info": {
   "codemirror_mode": {
    "name": "ipython",
    "version": 3
   },
   "file_extension": ".py",
   "mimetype": "text/x-python",
   "name": "python",
   "nbconvert_exporter": "python",
   "pygments_lexer": "ipython3",
   "version": "3.12.4"
  }
 },
 "nbformat": 4,
 "nbformat_minor": 5
}
